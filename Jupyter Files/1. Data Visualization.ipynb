{
 "cells": [
  {
   "cell_type": "markdown",
   "metadata": {},
   "source": [
    "\n",
    "# Lab 2\n",
    "\n",
    "## Name: Aagnay Kariyal\n",
    "## Student ID: 8830232\n",
    "***\n",
    "\n",
    "\n",
    "### BoxPlot\n",
    "\n",
    "In the code block below we import some necessary libraries such as **matplot** lib and numpy to create a **boxplot** for the video game sales in the month of August."
   ]
  },
  {
   "cell_type": "code",
   "execution_count": 1,
   "metadata": {
    "ExecuteTime": {
     "end_time": "2023-09-29T21:58:42.232166Z",
     "start_time": "2023-09-29T21:58:39.826481Z"
    }
   },
   "outputs": [
    {
     "data": {
      "text/plain": "<BarContainer object of 5 artists>"
     },
     "execution_count": 1,
     "metadata": {},
     "output_type": "execute_result"
    },
    {
     "data": {
      "text/plain": "<Figure size 500x270 with 1 Axes>",
      "image/png": "[encoded data removed]"
     },
     "metadata": {},
     "output_type": "display_data"
    }
   ],
   "source": [
    "import matplotlib as mpl\n",
    "import matplotlib.pyplot as plt\n",
    "import numpy as np\n",
    "fig, ax = plt.subplots(figsize=(5, 2.7), layout='constrained')\n",
    "categories = ['God of war', 'Elden Ring', 'AC: Mirage', 'MK:1', 'RDR2']\n",
    "plt.title('Video Game Sales for August')\n",
    "ax.bar(categories, np.random.rand(len(categories)), color=['black', 'red', 'blue', 'green', 'brown'])"
   ]
  },
  {
   "cell_type": "markdown",
   "metadata": {},
   "source": [
    "### Displot\n",
    "***\n",
    "Here we use **plotly** to create a **Displot** with the help of numpy as well"
   ]
  },
  {
   "cell_type": "code",
   "execution_count": null,
   "metadata": {
    "is_executing": true
   },
   "outputs": [],
   "source": [
    "import plotly as px\n",
    "px.offline.init_notebook_mode()\n",
    "import plotly.figure_factory as ff\n",
    "import numpy as np\n",
    "\n",
    "x1 = np.random.randn(26)\n",
    "x2 = np.random.randn(26) + .5\n",
    "group_labels = ['2014', '2015']\n",
    "\n",
    "colors = ['rgb(0, 0, 100)', 'rgb(0, 200, 200)']\n",
    "\n",
    "fig = ff.create_distplot(\n",
    "    [x1, x2], group_labels, bin_size=.2, colors=colors, show_rug = False)\n",
    "\n",
    "fig.update_layout(title_text='Customized Distplot')\n",
    "fig.show()"
   ]
  },
  {
   "cell_type": "markdown",
   "metadata": {},
   "source": [
    "### Scatter Plot\n",
    "***\n",
    "We use **plotly** and the iris dataset from Pandas to create a **Scatter Plot**"
   ]
  },
  {
   "cell_type": "code",
   "execution_count": null,
   "metadata": {
    "is_executing": true
   },
   "outputs": [],
   "source": [
    "import plotly.express as px\n",
    "import plotly as pt\n",
    "pt.offline.init_notebook_mode()\n",
    "df = px.data.iris()\n",
    "fig = px.scatter(df, x=\"sepal_width\", y=\"sepal_length\", color='petal_length')\n",
    "fig.update_layout(title_text='Scatter Plot')\n",
    "fig.show()"
   ]
  },
  {
   "cell_type": "markdown",
   "metadata": {},
   "source": [
    "### Linear Regression\n",
    "***\n",
    "We create a **Linear Regression** model using **plotly** and **SciKit Learn**"
   ]
  },
  {
   "cell_type": "code",
   "execution_count": null,
   "metadata": {
    "is_executing": true
   },
   "outputs": [],
   "source": [
    "import numpy as np\n",
    "import plotly.express as px\n",
    "import plotly as pt\n",
    "pt.offline.init_notebook_mode()\n",
    "import plotly.graph_objects as go\n",
    "from sklearn.linear_model import LinearRegression\n",
    "\n",
    "df = px.data.tips()\n",
    "X = df.total_bill.values.reshape(-1, 1)\n",
    "\n",
    "model = LinearRegression()\n",
    "model.fit(X, df.tip)\n",
    "\n",
    "x_range = np.linspace(X.min(), X.max(), 100)\n",
    "y_range = model.predict(x_range.reshape(-1, 1))\n",
    "\n",
    "fig = px.scatter(df, x='total_bill', y='tip', opacity=0.65)\n",
    "fig.add_traces(go.Scatter(x=x_range, y=y_range, name='Regression Fit'))\n",
    "fig.update_layout(title_text = \"Linear Regression using SciKit Learn\")\n",
    "fig.show()"
   ]
  },
  {
   "cell_type": "markdown",
   "metadata": {},
   "source": [
    "***\n",
    "For references about the libraries click:<br>\n",
    "[matplotlib](https://matplotlib.org/stable/tutorials/introductory/quick_start.html)<br>\n",
    "[plotly](https://plotly.com/python/)"
   ]
  }
 ],
 "metadata": {
  "kernelspec": {
   "display_name": "CSCN8010_classic_ml",
   "language": "python",
   "name": "cscn8010_classic_ml"
  },
  "language_info": {
   "codemirror_mode": {
    "name": "ipython",
    "version": 3
   },
   "file_extension": ".py",
   "mimetype": "text/x-python",
   "name": "python",
   "nbconvert_exporter": "python",
   "pygments_lexer": "ipython3",
   "version": "3.11.5"
  },
  "orig_nbformat": 4
 },
 "nbformat": 4,
 "nbformat_minor": 2
}
