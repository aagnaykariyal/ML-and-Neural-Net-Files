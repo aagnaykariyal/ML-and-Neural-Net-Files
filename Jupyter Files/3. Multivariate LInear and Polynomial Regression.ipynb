{
 "cells": [
  {
   "cell_type": "markdown",
   "source": [
    "# Lab 4 - Multivariate Linear and Polynomial Regression, and Evaluation using R-Squared, MAPE and MAE"
   ],
   "metadata": {
    "collapsed": false
   },
   "id": "5710590f58076b51"
  },
  {
   "cell_type": "markdown",
   "source": [
    "### Importing the dependencies"
   ],
   "metadata": {
    "collapsed": false
   },
   "id": "96b1714dccbf208b"
  },
  {
   "cell_type": "code",
   "execution_count": 1,
   "id": "initial_id",
   "metadata": {
    "collapsed": true,
    "ExecuteTime": {
     "end_time": "2023-10-21T02:29:20.826474Z",
     "start_time": "2023-10-21T02:29:20.364167Z"
    }
   },
   "outputs": [],
   "source": [
    "from sklearn import datasets\n",
    "from sklearn.model_selection import train_test_split\n",
    "from sklearn.metrics import mean_absolute_percentage_error\n",
    "from sklearn.metrics import mean_absolute_error\n",
    "from sklearn.metrics import r2_score\n",
    "from sklearn.linear_model import LinearRegression\n",
    "from sklearn.preprocessing import PolynomialFeatures"
   ]
  },
  {
   "cell_type": "markdown",
   "source": [
    "### Load the datasets"
   ],
   "metadata": {
    "collapsed": false
   },
   "id": "f76cd4ad31b3748e"
  },
  {
   "cell_type": "code",
   "execution_count": 5,
   "outputs": [],
   "source": [
    "# Loading the dataset and the features into X and target values into y\n",
    "x, y = datasets.load_diabetes(as_frame=True, scaled=False, return_X_y=True)\n",
    "\n",
    "x_train, x_test, y_train, y_test = train_test_split(x, y, test_size=0.3, random_state=0) # Splitting the data into train and test variables. 70% into training and 30% into testing\n",
    "x_test, x_valid, y_test, y_valid = train_test_split(x_test, y_test, test_size=0.5, random_state=0) # Splitting the test data further into validation and test again by 50% for both. So in it's entirety, we have 70% for training, 15% for testing and 15% for validation."
   ],
   "metadata": {
    "collapsed": false,
    "ExecuteTime": {
     "end_time": "2023-10-11T18:50:59.492836Z",
     "start_time": "2023-10-11T18:50:59.253127Z"
    }
   },
   "id": "da9b477b820e7aa"
  },
  {
   "cell_type": "code",
   "execution_count": 7,
   "outputs": [
    {
     "data": {
      "text/plain": "    age  sex   bmi     bp     s1     s2    s3   s4      s5    s6\n0  59.0  2.0  32.1  101.0  157.0   93.2  38.0  4.0  4.8598  87.0\n1  48.0  1.0  21.6   87.0  183.0  103.2  70.0  3.0  3.8918  69.0\n2  72.0  2.0  30.5   93.0  156.0   93.6  41.0  4.0  4.6728  85.0\n3  24.0  1.0  25.3   84.0  198.0  131.4  40.0  5.0  4.8903  89.0\n4  50.0  1.0  23.0  101.0  192.0  125.4  52.0  4.0  4.2905  80.0",
      "text/html": "<div>\n<style scoped>\n    .dataframe tbody tr th:only-of-type {\n        vertical-align: middle;\n    }\n\n    .dataframe tbody tr th {\n        vertical-align: top;\n    }\n\n    .dataframe thead th {\n        text-align: right;\n    }\n</style>\n<table border=\"1\" class=\"dataframe\">\n  <thead>\n    <tr style=\"text-align: right;\">\n      <th></th>\n      <th>age</th>\n      <th>sex</th>\n      <th>bmi</th>\n      <th>bp</th>\n      <th>s1</th>\n      <th>s2</th>\n      <th>s3</th>\n      <th>s4</th>\n      <th>s5</th>\n      <th>s6</th>\n    </tr>\n  </thead>\n  <tbody>\n    <tr>\n      <th>0</th>\n      <td>59.0</td>\n      <td>2.0</td>\n      <td>32.1</td>\n      <td>101.0</td>\n      <td>157.0</td>\n      <td>93.2</td>\n      <td>38.0</td>\n      <td>4.0</td>\n      <td>4.8598</td>\n      <td>87.0</td>\n    </tr>\n    <tr>\n      <th>1</th>\n      <td>48.0</td>\n      <td>1.0</td>\n      <td>21.6</td>\n      <td>87.0</td>\n      <td>183.0</td>\n      <td>103.2</td>\n      <td>70.0</td>\n      <td>3.0</td>\n      <td>3.8918</td>\n      <td>69.0</td>\n    </tr>\n    <tr>\n      <th>2</th>\n      <td>72.0</td>\n      <td>2.0</td>\n      <td>30.5</td>\n      <td>93.0</td>\n      <td>156.0</td>\n      <td>93.6</td>\n      <td>41.0</td>\n      <td>4.0</td>\n      <td>4.6728</td>\n      <td>85.0</td>\n    </tr>\n    <tr>\n      <th>3</th>\n      <td>24.0</td>\n      <td>1.0</td>\n      <td>25.3</td>\n      <td>84.0</td>\n      <td>198.0</td>\n      <td>131.4</td>\n      <td>40.0</td>\n      <td>5.0</td>\n      <td>4.8903</td>\n      <td>89.0</td>\n    </tr>\n    <tr>\n      <th>4</th>\n      <td>50.0</td>\n      <td>1.0</td>\n      <td>23.0</td>\n      <td>101.0</td>\n      <td>192.0</td>\n      <td>125.4</td>\n      <td>52.0</td>\n      <td>4.0</td>\n      <td>4.2905</td>\n      <td>80.0</td>\n    </tr>\n  </tbody>\n</table>\n</div>"
     },
     "execution_count": 7,
     "metadata": {},
     "output_type": "execute_result"
    }
   ],
   "source": [
    "x.head()"
   ],
   "metadata": {
    "collapsed": false,
    "ExecuteTime": {
     "end_time": "2023-10-11T18:51:14.177848Z",
     "start_time": "2023-10-11T18:51:14.158320Z"
    }
   },
   "id": "4957900142a031af"
  },
  {
   "cell_type": "markdown",
   "source": [
    "## Multivariate Linear Regression"
   ],
   "metadata": {
    "collapsed": false
   },
   "id": "4d91bc586984ea54"
  },
  {
   "cell_type": "code",
   "execution_count": 76,
   "outputs": [
    {
     "name": "stdout",
     "output_type": "stream",
     "text": [
      "The number of parameteres for Multivariate Linear Regression is: 10\n"
     ]
    }
   ],
   "source": [
    "linear_model = LinearRegression() # Running the linear regression model\n",
    "linear_model.fit(x_train, y_train) # Fitting the train variables into the linear regression model\n",
    "\n",
    "# Predicting the values using the linear regression model\n",
    "y_pred_test = linear_model.predict(x_test)\n",
    "y_pred_train = linear_model.predict(x_train)\n",
    "y_pred_valid = linear_model.predict(x_valid)\n",
    "\n",
    "print('The number of parameteres for Multivariate Linear Regression is:', len(linear_model.coef_))"
   ],
   "metadata": {
    "collapsed": false,
    "ExecuteTime": {
     "end_time": "2023-10-11T18:36:52.707187Z",
     "start_time": "2023-10-11T18:36:52.699560Z"
    }
   },
   "id": "eea02f4173dad5e6"
  },
  {
   "cell_type": "markdown",
   "source": [
    "## Univariate Polynomial Regression on the BMI feature"
   ],
   "metadata": {
    "collapsed": false
   },
   "id": "1b27d46311ab7ac3"
  },
  {
   "cell_type": "code",
   "execution_count": 77,
   "outputs": [
    {
     "name": "stdout",
     "output_type": "stream",
     "text": [
      "The number of parameters in the Polynomial Regression based on the BMI feature is: 2\n"
     ]
    }
   ],
   "source": [
    "x_bmi = x['bmi'].values.reshape(-1,1) # Reshaping the BMI feature to fit in the Polynomial Regression model\n",
    "\n",
    "# Splitting the data into training, testing and validation set\n",
    "x_p_train, x_p_test, y_p_train, y_p_test = train_test_split(x_bmi, y, test_size=0.3, random_state=0)\n",
    "x_p_test, x_p_valid, y_p_test, y_p_valid = train_test_split(x_p_test, y_p_test, test_size=0.5, random_state=0)\n",
    "\n",
    "polyn_model = PolynomialFeatures(degree=2, include_bias=False)\n",
    "\n",
    "x_pol_train = polyn_model.fit_transform(x_p_train)\n",
    "x_pol_test = polyn_model.fit_transform(x_p_test)\n",
    "x_pol_valid = polyn_model.fit_transform(x_p_valid)\n",
    "\n",
    "pol_model = LinearRegression()\n",
    "\n",
    "\n",
    "pol_model.fit(x_pol_train, y_train)\n",
    "\n",
    "y_pol_pred_train = pol_model.predict(x_pol_train)\n",
    "y_pol_pred_test = pol_model.predict(x_pol_test)\n",
    "y_pol_pred_valid = pol_model.predict(x_pol_valid)\n",
    "\n",
    "print('The number of parameters in the Polynomial Regression based on the BMI feature is:', len(pol_model.coef_))"
   ],
   "metadata": {
    "collapsed": false,
    "ExecuteTime": {
     "end_time": "2023-10-11T18:36:53.706552Z",
     "start_time": "2023-10-11T18:36:53.704046Z"
    }
   },
   "id": "e1f2d5b48ce03c6"
  },
  {
   "cell_type": "markdown",
   "source": [
    "## Multivariate Polynomial Regression"
   ],
   "metadata": {
    "collapsed": false
   },
   "id": "5a5a8697e898a972"
  },
  {
   "cell_type": "code",
   "execution_count": 78,
   "outputs": [
    {
     "name": "stdout",
     "output_type": "stream",
     "text": [
      "The number of parameters in the Multivariate polynomial regression is: 65\n"
     ]
    }
   ],
   "source": [
    "polynomial_model = PolynomialFeatures(degree=2, include_bias=False)\n",
    "\n",
    "x_poly_train = polynomial_model.fit_transform(x_train)\n",
    "x_poly_test = polynomial_model.fit_transform(x_test)\n",
    "x_poly_valid = polynomial_model.fit_transform(x_valid)\n",
    "\n",
    "poly_model = LinearRegression()\n",
    "\n",
    "poly_model.fit(x_poly_train, y_train)\n",
    "\n",
    "y_poly_pred_train = poly_model.predict(x_poly_train)\n",
    "y_poly_pred_test = poly_model.predict(x_poly_test)\n",
    "y_poly_pred_valid = poly_model.predict(x_poly_valid)\n",
    "\n",
    "print ('The number of parameters in the Multivariate polynomial regression is:', len(poly_model.coef_))"
   ],
   "metadata": {
    "collapsed": false,
    "ExecuteTime": {
     "end_time": "2023-10-11T18:36:55.009363Z",
     "start_time": "2023-10-11T18:36:54.938311Z"
    }
   },
   "id": "1d5619729614c891"
  },
  {
   "cell_type": "markdown",
   "source": [
    "## Comparison between the models"
   ],
   "metadata": {
    "collapsed": false
   },
   "id": "ae152c963667dcf5"
  },
  {
   "cell_type": "code",
   "execution_count": 79,
   "outputs": [
    {
     "name": "stdout",
     "output_type": "stream",
     "text": [
      "The results of the Loss functions for the Multivariate Linear Regression models are:\n",
      "The R-Squared of train set is 0.5539378915448929\n",
      "The R-Squared of validation set is 0.3577498389638193\n",
      "The Mean Absolute Error of train set is 43.05497348042472\n",
      "The Mean Absolute Error of validation set is 40.27022711755064\n",
      "The Mean Absolute Percentage Error of train set is 0.39144712116653047\n",
      "The Mean Absolute Percentage Error of validation set is 0.40037139917326187\n",
      "\n",
      "\n",
      "The results of the loss functions for the Polynomial Regression based on BMI are:\n",
      "The R-Squared of train set is 0.38077692043301736\n",
      "The R-Squared of validation set is 0.0497533183932678\n",
      "The Mean Absolute Error of train set is 51.712537284241954\n",
      "The Mean Absolute Error of validation set is 50.015690579188416\n",
      "The Mean Absolute Percentage Error of train set is 0.4817649534670314\n",
      "The Mean Absolute Percentage Error of validation set is 0.4858660629790605\n",
      "\n",
      "\n",
      "The results of the loss functions for the multivariate polynomial regression are:\n",
      "The R-Squared of train set is 0.6569756197470986\n",
      "The R-Squared of validation set is 0.2278787552972279\n",
      "The Mean Absolute Error of train set is 36.912904201757534\n",
      "The Mean Absolute Error of validation set is 44.283025975687366\n",
      "The Mean Absolute Percentage Error of train set is 0.3297402187562522\n",
      "The Mean Absolute Percentage Error of validation set is 0.4447327952535905\n"
     ]
    }
   ],
   "source": [
    "# Multivariate Linear Regression\n",
    "# R-Squared for Multivariate Linear Regression\n",
    "print('The results of the Loss functions for the Multivariate Linear Regression models are:')\n",
    "r2_dict = {'train' : r2_score(y_train, y_pred_train), 'validation' : r2_score(y_valid, y_pred_valid)}\n",
    "for keys in r2_dict:\n",
    "    value = r2_dict[keys]\n",
    "    print(f'The R-Squared of {keys} set is {value}')\n",
    "\n",
    "# Mean Squared Error for Multivariate Linear Regression\n",
    "mse_dict = {'train':mean_absolute_error(y_train, y_pred_train), 'validation':mean_absolute_error(y_valid, y_pred_valid)}\n",
    "for keys in mse_dict:\n",
    "    value = mse_dict[keys]\n",
    "    print(f'The Mean Absolute Error of {keys} set is {value}')\n",
    "    \n",
    "# Mean absolute percentage error for Multivariate Linear Regression\n",
    "mape_dict = {'train':mean_absolute_percentage_error(y_train, y_pred_train), 'validation':mean_absolute_percentage_error(y_valid, y_pred_valid)}\n",
    "for keys in mape_dict:\n",
    "    value = mape_dict[keys]\n",
    "    print(f'The Mean Absolute Percentage Error of {keys} set is {value}')\n",
    "print('\\n')\n",
    "\n",
    "# Polynomial Regression based on the BMI\n",
    "# R-Squared for polynomial regression on the BMI feature\n",
    "print('The results of the loss functions for the Polynomial Regression based on BMI are:')\n",
    "r2_dict = {'train' : r2_score(y_train, y_pol_pred_train), 'validation' : r2_score(y_valid, y_pol_pred_valid)}\n",
    "for keys in r2_dict:\n",
    "    value = r2_dict[keys]\n",
    "    print(f'The R-Squared of {keys} set is {value}')\n",
    "    \n",
    "# Mean Squared Error for polynomial regression on the BMI feature\n",
    "mse_dict = {'train': mean_absolute_error(y_train, y_pol_pred_train),\n",
    "            'validation': mean_absolute_error(y_valid, y_pol_pred_valid)}\n",
    "for keys in mse_dict:\n",
    "    value = mse_dict[keys]\n",
    "    print(f'The Mean Absolute Error of {keys} set is {value}')\n",
    "    \n",
    "# Mean absolute percentage error for polynomial regression on the BMI feature\n",
    "mape_dict = {'train': mean_absolute_percentage_error(y_train, y_pol_pred_train),\n",
    "             'validation': mean_absolute_percentage_error(y_valid, y_pol_pred_valid)}\n",
    "for keys in mape_dict:\n",
    "    value = mape_dict[keys]\n",
    "    print(f'The Mean Absolute Percentage Error of {keys} set is {value}')\n",
    "print('\\n')\n",
    "\n",
    "# Multivariate Polynomial Regression\n",
    "# R-Squared for multivariate polynomial regression\n",
    "print('The results of the loss functions for the multivariate polynomial regression are:')\n",
    "r2_dict = {'train' : r2_score(y_train, y_poly_pred_train), 'validation' : r2_score(y_valid, y_poly_pred_valid)}\n",
    "for keys in r2_dict:\n",
    "    value = r2_dict[keys]\n",
    "    print(f'The R-Squared of {keys} set is {value}')\n",
    "    \n",
    "# Mean Squared Error for multivariate polynomial regression\n",
    "mse_dict = {'train': mean_absolute_error(y_train, y_poly_pred_train),\n",
    "            'validation': mean_absolute_error(y_valid, y_poly_pred_valid)}\n",
    "for keys in mse_dict:\n",
    "    value = mse_dict[keys]\n",
    "    print(f'The Mean Absolute Error of {keys} set is {value}')\n",
    "    \n",
    "# Mean absolute percentage error for multivariate polynomial regression\n",
    "mape_dict = {'train': mean_absolute_percentage_error(y_train, y_poly_pred_train),\n",
    "             'validation': mean_absolute_percentage_error(y_valid, y_poly_pred_valid)}\n",
    "for keys in mape_dict:\n",
    "    value = mape_dict[keys]\n",
    "    print(f'The Mean Absolute Percentage Error of {keys} set is {value}')"
   ],
   "metadata": {
    "collapsed": false,
    "ExecuteTime": {
     "end_time": "2023-10-11T18:36:57.105983Z",
     "start_time": "2023-10-11T18:36:57.100769Z"
    }
   },
   "id": "e2798f1f7ec3300c"
  },
  {
   "cell_type": "markdown",
   "source": [
    "\n",
    "***\n",
    "\n",
    "#### Loss functions Explained:\n",
    "###### R-Squared:\n",
    "* R-squared is calculated by subtracting the quotient of Mean-Squared Error and the Variance by 1 (R2 = 1-(MSE/Var)).\n",
    "* R-Squared typically ranges from 0 to 1 and if you get a negative output that means your data might not be normalized.\n",
    "* It is generally expected for the result to have a higher value since that would mean that your model has less error.\n",
    "\n",
    "###### Mean Absolute Error (MAE)\n",
    "* Mean absolute error calculates the absolute average between your predicted and actual values\n",
    "* Smaller MAE values typically means less errors in your model.\n",
    "\n",
    "###### Mean Absolute Percentage Error (MAPE)\n",
    "* Mean absolute percentage error calculates the absolute percentage average between your predicted and actual values.\n",
    "* It is very similar to the MAE, and the lowest percentage indicates less error in your model.\n",
    "\n",
    "#### Insights:\n",
    "##### For R-Squared:\n",
    "* While comparing the R-Squared of the validation set, we can clearly see that Multivariate Linear Regression has the higher score of 0.35, which indicates less error while comparing the R-Square with the other models.\n",
    "##### For Mean Absolute Error (MAE):\n",
    "* While comparing the Mean Absolute Error of the validation set, we can see that the Multivariate Linear Regression set has the least score of 40.27 which indicates that it has the less possibility for errors amongst other models.\n",
    "##### For Mean Absolute Percentage Error (MAPE)\n",
    "* While comparing the Mean Absolute Percentage Error of the validation set, we can see that the Multivariate Linear Regression set also has the least score of 40%, which indicates less possibility for errors amongst other models."
   ],
   "metadata": {
    "collapsed": false
   },
   "id": "9431b5196fff72c4"
  },
  {
   "cell_type": "markdown",
   "source": [
    "## Questions\n",
    "\n",
    "***\n",
    "\n",
    "#### How many parameters are we fitting for each of the three models? Explain these values\n",
    "\n",
    "* For the Multivariate Linear Regression model, we have 10 parameters\n",
    "* * Here we have 10 parameters which are the number of features that we have in the dataset. \n",
    "* For the Univariate Polynomial Regression model, we have 2 parameters\n",
    "* * Here we only have 2 parameters since we are only taking in the BMI feature and we are transforming on the degree of 2\n",
    "* For the Multivariate Polynomial Regresesion model, we have 65 parameters\n",
    "* * Here we have 65 parameters since we are taking the whole features of the dataset and we are transforming on the degree of 2, similar to the univariate polynomial model\n",
    "\n",
    "\n",
    "#### Which model would you choose for deployment and why?\n",
    "* I would choose the Multivariate Linear Regression for deployment because it's validation set comparing to all Loss functions and models, has the least error."
   ],
   "metadata": {
    "collapsed": false
   },
   "id": "ffbfa0561c0ec24c"
  },
  {
   "cell_type": "code",
   "execution_count": 73,
   "outputs": [],
   "source": [],
   "metadata": {
    "collapsed": false,
    "ExecuteTime": {
     "end_time": "2023-10-11T17:03:24.875222Z",
     "start_time": "2023-10-11T17:03:24.744801Z"
    }
   },
   "id": "2cd035e7755f8649"
  }
 ],
 "metadata": {
  "kernelspec": {
   "display_name": "Python 3",
   "language": "python",
   "name": "python3"
  },
  "language_info": {
   "codemirror_mode": {
    "name": "ipython",
    "version": 2
   },
   "file_extension": ".py",
   "mimetype": "text/x-python",
   "name": "python",
   "nbconvert_exporter": "python",
   "pygments_lexer": "ipython2",
   "version": "2.7.6"
  }
 },
 "nbformat": 4,
 "nbformat_minor": 5
}
