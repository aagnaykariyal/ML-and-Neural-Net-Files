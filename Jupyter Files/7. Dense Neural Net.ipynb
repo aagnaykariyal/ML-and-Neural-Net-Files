{
 "cells": [
  {
   "cell_type": "markdown",
   "source": [
    "# Lab 10\n",
    "## Submitted By: Aagnay Kariyal\n",
    "## Student ID: 8830232\n",
    "\n",
    "***\n"
   ],
   "metadata": {
    "collapsed": false
   },
   "id": "48278ad940d845d8"
  },
  {
   "cell_type": "code",
   "execution_count": 1,
   "id": "initial_id",
   "metadata": {
    "collapsed": true,
    "ExecuteTime": {
     "end_time": "2023-12-14T12:51:03.988691Z",
     "start_time": "2023-12-14T12:50:59.458928Z"
    }
   },
   "outputs": [],
   "source": [
    "import os, shutil, pathlib\n",
    "import tensorflow as tf\n",
    "import matplotlib.pyplot as plt\n",
    "import numpy as np\n",
    "from tensorflow import keras\n",
    "from tensorflow.keras import layers\n",
    "import pathlib\n",
    "from tensorflow.keras.utils import image_dataset_from_directory\n",
    "from keras.preprocessing.image import ImageDataGenerator"
   ]
  },
  {
   "cell_type": "code",
   "execution_count": 2,
   "outputs": [],
   "source": [
    "main_dir = '/Users/aagnaykariyal/Documents/Github/Conestoga/CSCN8010/data/archive'\n",
    "train_dir = os.path.join(main_dir, 'train')\n",
    "valid_dir = os.path.join(main_dir, 'valid')\n",
    "test_dir = os.path.join(main_dir, 'test')"
   ],
   "metadata": {
    "collapsed": false,
    "ExecuteTime": {
     "end_time": "2023-12-14T12:51:03.989967Z",
     "start_time": "2023-12-14T12:51:03.986667Z"
    }
   },
   "id": "91afc5fa932a6ba2"
  },
  {
   "cell_type": "code",
   "execution_count": 3,
   "outputs": [
    {
     "ename": "NotADirectoryError",
     "evalue": "[Errno 20] Not a directory: '/Users/aagnaykariyal/Documents/Github/Conestoga/CSCN8010/data/archive/train/.DS_Store'",
     "output_type": "error",
     "traceback": [
      "\u001B[0;31m---------------------------------------------------------------------------\u001B[0m",
      "\u001B[0;31mNotADirectoryError\u001B[0m                        Traceback (most recent call last)",
      "Cell \u001B[0;32mIn[3], line 2\u001B[0m\n\u001B[1;32m      1\u001B[0m names \u001B[38;5;241m=\u001B[39m \u001B[38;5;28msorted\u001B[39m([x \u001B[38;5;28;01mfor\u001B[39;00m x \u001B[38;5;129;01min\u001B[39;00m os\u001B[38;5;241m.\u001B[39mlistdir(train_dir)])\n\u001B[0;32m----> 2\u001B[0m counts \u001B[38;5;241m=\u001B[39m \u001B[43m[\u001B[49m\u001B[38;5;28;43mlen\u001B[39;49m\u001B[43m(\u001B[49m\u001B[43mos\u001B[49m\u001B[38;5;241;43m.\u001B[39;49m\u001B[43mlistdir\u001B[49m\u001B[43m(\u001B[49m\u001B[43mos\u001B[49m\u001B[38;5;241;43m.\u001B[39;49m\u001B[43mpath\u001B[49m\u001B[38;5;241;43m.\u001B[39;49m\u001B[43mjoin\u001B[49m\u001B[43m(\u001B[49m\u001B[43mtrain_dir\u001B[49m\u001B[43m,\u001B[49m\u001B[43m \u001B[49m\u001B[43mx\u001B[49m\u001B[43m)\u001B[49m\u001B[43m)\u001B[49m\u001B[43m)\u001B[49m\u001B[43m \u001B[49m\u001B[38;5;28;43;01mfor\u001B[39;49;00m\u001B[43m \u001B[49m\u001B[43mx\u001B[49m\u001B[43m \u001B[49m\u001B[38;5;129;43;01min\u001B[39;49;00m\u001B[43m \u001B[49m\u001B[43mnames\u001B[49m\u001B[43m]\u001B[49m\n\u001B[1;32m      3\u001B[0m classes \u001B[38;5;241m=\u001B[39m np\u001B[38;5;241m.\u001B[39margsort(counts)[\u001B[38;5;241m-\u001B[39m\u001B[38;5;241m3\u001B[39m:]\n\u001B[1;32m      4\u001B[0m class_names \u001B[38;5;241m=\u001B[39m [names[\u001B[38;5;28mid\u001B[39m] \u001B[38;5;28;01mfor\u001B[39;00m \u001B[38;5;28mid\u001B[39m \u001B[38;5;129;01min\u001B[39;00m classes]\n",
      "Cell \u001B[0;32mIn[3], line 2\u001B[0m, in \u001B[0;36m<listcomp>\u001B[0;34m(.0)\u001B[0m\n\u001B[1;32m      1\u001B[0m names \u001B[38;5;241m=\u001B[39m \u001B[38;5;28msorted\u001B[39m([x \u001B[38;5;28;01mfor\u001B[39;00m x \u001B[38;5;129;01min\u001B[39;00m os\u001B[38;5;241m.\u001B[39mlistdir(train_dir)])\n\u001B[0;32m----> 2\u001B[0m counts \u001B[38;5;241m=\u001B[39m [\u001B[38;5;28mlen\u001B[39m(\u001B[43mos\u001B[49m\u001B[38;5;241;43m.\u001B[39;49m\u001B[43mlistdir\u001B[49m\u001B[43m(\u001B[49m\u001B[43mos\u001B[49m\u001B[38;5;241;43m.\u001B[39;49m\u001B[43mpath\u001B[49m\u001B[38;5;241;43m.\u001B[39;49m\u001B[43mjoin\u001B[49m\u001B[43m(\u001B[49m\u001B[43mtrain_dir\u001B[49m\u001B[43m,\u001B[49m\u001B[43m \u001B[49m\u001B[43mx\u001B[49m\u001B[43m)\u001B[49m\u001B[43m)\u001B[49m) \u001B[38;5;28;01mfor\u001B[39;00m x \u001B[38;5;129;01min\u001B[39;00m names]\n\u001B[1;32m      3\u001B[0m classes \u001B[38;5;241m=\u001B[39m np\u001B[38;5;241m.\u001B[39margsort(counts)[\u001B[38;5;241m-\u001B[39m\u001B[38;5;241m3\u001B[39m:]\n\u001B[1;32m      4\u001B[0m class_names \u001B[38;5;241m=\u001B[39m [names[\u001B[38;5;28mid\u001B[39m] \u001B[38;5;28;01mfor\u001B[39;00m \u001B[38;5;28mid\u001B[39m \u001B[38;5;129;01min\u001B[39;00m classes]\n",
      "\u001B[0;31mNotADirectoryError\u001B[0m: [Errno 20] Not a directory: '/Users/aagnaykariyal/Documents/Github/Conestoga/CSCN8010/data/archive/train/.DS_Store'"
     ]
    }
   ],
   "source": [
    "names = sorted([x for x in os.listdir(train_dir)])\n",
    "counts = [len(os.listdir(os.path.join(train_dir, x))) for x in names]\n",
    "classes = np.argsort(counts)[-3:]\n",
    "class_names = [names[id] for id in classes]\n",
    "print(class_names)    "
   ],
   "metadata": {
    "collapsed": false,
    "ExecuteTime": {
     "end_time": "2023-12-14T12:51:05.383910Z",
     "start_time": "2023-12-14T12:51:04.837529Z"
    }
   },
   "id": "25852189f5f4d396"
  },
  {
   "cell_type": "code",
   "execution_count": 4,
   "outputs": [
    {
     "ename": "NameError",
     "evalue": "name 'class_names' is not defined",
     "output_type": "error",
     "traceback": [
      "\u001B[0;31m---------------------------------------------------------------------------\u001B[0m",
      "\u001B[0;31mNameError\u001B[0m                                 Traceback (most recent call last)",
      "Cell \u001B[0;32mIn[4], line 8\u001B[0m\n\u001B[1;32m      6\u001B[0m os\u001B[38;5;241m.\u001B[39mmakedirs(new_test, exist_ok\u001B[38;5;241m=\u001B[39m\u001B[38;5;28;01mTrue\u001B[39;00m)\n\u001B[1;32m      7\u001B[0m os\u001B[38;5;241m.\u001B[39mmakedirs(new_valid, exist_ok\u001B[38;5;241m=\u001B[39m\u001B[38;5;28;01mTrue\u001B[39;00m)\n\u001B[0;32m----> 8\u001B[0m \u001B[38;5;28;01mfor\u001B[39;00m name \u001B[38;5;129;01min\u001B[39;00m \u001B[43mclass_names\u001B[49m:\n\u001B[1;32m      9\u001B[0m     os\u001B[38;5;241m.\u001B[39mrename(os\u001B[38;5;241m.\u001B[39mpath\u001B[38;5;241m.\u001B[39mjoin(train_dir, name),os\u001B[38;5;241m.\u001B[39mpath\u001B[38;5;241m.\u001B[39mjoin(new_train, name))\n\u001B[1;32m     10\u001B[0m     os\u001B[38;5;241m.\u001B[39mrename(os\u001B[38;5;241m.\u001B[39mpath\u001B[38;5;241m.\u001B[39mjoin(valid_dir, name),os\u001B[38;5;241m.\u001B[39mpath\u001B[38;5;241m.\u001B[39mjoin(new_valid, name))\n",
      "\u001B[0;31mNameError\u001B[0m: name 'class_names' is not defined"
     ]
    }
   ],
   "source": [
    "# Creating new folders consisting of just the 3 classes\n",
    "new_train = os.path.join(main_dir, \"new_train\")\n",
    "new_test = os.path.join(main_dir, \"new_test\")\n",
    "new_valid = os.path.join(main_dir, \"new_valid\")\n",
    "os.makedirs(new_train, exist_ok=True)\n",
    "os.makedirs(new_test, exist_ok=True)\n",
    "os.makedirs(new_valid, exist_ok=True)\n",
    "for name in class_names:\n",
    "    os.rename(os.path.join(train_dir, name),os.path.join(new_train, name))\n",
    "    os.rename(os.path.join(valid_dir, name),os.path.join(new_valid, name))\n",
    "    os.rename(os.path.join(test_dir, name), os.path.join(new_test, name))"
   ],
   "metadata": {
    "collapsed": false,
    "ExecuteTime": {
     "end_time": "2023-12-14T12:51:06.974257Z",
     "start_time": "2023-12-14T12:51:06.762961Z"
    }
   },
   "id": "3739d45b3212c6ce"
  },
  {
   "cell_type": "code",
   "execution_count": 5,
   "outputs": [
    {
     "name": "stdout",
     "output_type": "stream",
     "text": [
      "Found 744 files belonging to 3 classes.\n"
     ]
    },
    {
     "name": "stderr",
     "output_type": "stream",
     "text": [
      "2023-12-14 07:51:11.267233: I metal_plugin/src/device/metal_device.cc:1154] Metal device set to: Apple M1\n",
      "2023-12-14 07:51:11.267275: I metal_plugin/src/device/metal_device.cc:296] systemMemory: 8.00 GB\n",
      "2023-12-14 07:51:11.267302: I metal_plugin/src/device/metal_device.cc:313] maxCacheSize: 2.67 GB\n",
      "2023-12-14 07:51:11.267684: I tensorflow/core/common_runtime/pluggable_device/pluggable_device_factory.cc:306] Could not identify NUMA node of platform GPU ID 0, defaulting to 0. Your kernel may not have been built with NUMA support.\n",
      "2023-12-14 07:51:11.267976: I tensorflow/core/common_runtime/pluggable_device/pluggable_device_factory.cc:272] Created TensorFlow device (/job:localhost/replica:0/task:0/device:GPU:0 with 0 MB memory) -> physical PluggableDevice (device: 0, name: METAL, pci bus id: <undefined>)\n"
     ]
    },
    {
     "name": "stdout",
     "output_type": "stream",
     "text": [
      "Found 15 files belonging to 3 classes.\n",
      "Found 15 files belonging to 3 classes.\n"
     ]
    }
   ],
   "source": [
    "main_dir = pathlib.Path(main_dir)\n",
    "train = image_dataset_from_directory(\n",
    "    main_dir/\"new_train\",\n",
    "    image_size=(224, 224),\n",
    "    batch_size=32)\n",
    "test = image_dataset_from_directory(\n",
    "    main_dir/\"new_test\",\n",
    "    image_size=(224, 224),\n",
    "    batch_size=32)\n",
    "valid = image_dataset_from_directory(\n",
    "    main_dir/\"new_valid\",\n",
    "    image_size=(224, 224),\n",
    "    batch_size=32)"
   ],
   "metadata": {
    "collapsed": false,
    "ExecuteTime": {
     "end_time": "2023-12-14T12:51:11.630310Z",
     "start_time": "2023-12-14T12:51:11.192931Z"
    }
   },
   "id": "edb8ef472f8525c3"
  },
  {
   "cell_type": "code",
   "execution_count": 4,
   "outputs": [],
   "source": [
    "# define a function to augment data\n",
    "data_augmentation = keras.Sequential(\n",
    "    [\n",
    "        layers.RandomFlip(\"horizontal\"),\n",
    "        layers.RandomRotation(0.1), # changed the percentages a little\n",
    "        layers.RandomZoom(0.3),\n",
    "    ]\n",
    ")"
   ],
   "metadata": {
    "collapsed": false,
    "ExecuteTime": {
     "end_time": "2023-12-03T16:09:25.863087Z",
     "start_time": "2023-12-03T16:09:25.801521Z"
    }
   },
   "id": "826828d1ddb36438"
  },
  {
   "cell_type": "code",
   "execution_count": 5,
   "outputs": [],
   "source": [
    "conv_base = keras.applications.vgg16.VGG16(\n",
    "    weights=\"imagenet\",\n",
    "    include_top=False,\n",
    "    input_shape = (224,224,3)\n",
    ")"
   ],
   "metadata": {
    "collapsed": false,
    "ExecuteTime": {
     "end_time": "2023-12-03T16:09:29.295877Z",
     "start_time": "2023-12-03T16:09:25.823678Z"
    }
   },
   "id": "1a818d6bb8dad455"
  },
  {
   "cell_type": "code",
   "execution_count": 6,
   "outputs": [
    {
     "name": "stdout",
     "output_type": "stream",
     "text": [
      "Model: \"vgg16\"\n",
      "_________________________________________________________________\n",
      " Layer (type)                Output Shape              Param #   \n",
      "=================================================================\n",
      " input_1 (InputLayer)        [(None, 224, 224, 3)]     0         \n",
      "                                                                 \n",
      " block1_conv1 (Conv2D)       (None, 224, 224, 64)      1792      \n",
      "                                                                 \n",
      " block1_conv2 (Conv2D)       (None, 224, 224, 64)      36928     \n",
      "                                                                 \n",
      " block1_pool (MaxPooling2D)  (None, 112, 112, 64)      0         \n",
      "                                                                 \n",
      " block2_conv1 (Conv2D)       (None, 112, 112, 128)     73856     \n",
      "                                                                 \n",
      " block2_conv2 (Conv2D)       (None, 112, 112, 128)     147584    \n",
      "                                                                 \n",
      " block2_pool (MaxPooling2D)  (None, 56, 56, 128)       0         \n",
      "                                                                 \n",
      " block3_conv1 (Conv2D)       (None, 56, 56, 256)       295168    \n",
      "                                                                 \n",
      " block3_conv2 (Conv2D)       (None, 56, 56, 256)       590080    \n",
      "                                                                 \n",
      " block3_conv3 (Conv2D)       (None, 56, 56, 256)       590080    \n",
      "                                                                 \n",
      " block3_pool (MaxPooling2D)  (None, 28, 28, 256)       0         \n",
      "                                                                 \n",
      " block4_conv1 (Conv2D)       (None, 28, 28, 512)       1180160   \n",
      "                                                                 \n",
      " block4_conv2 (Conv2D)       (None, 28, 28, 512)       2359808   \n",
      "                                                                 \n",
      " block4_conv3 (Conv2D)       (None, 28, 28, 512)       2359808   \n",
      "                                                                 \n",
      " block4_pool (MaxPooling2D)  (None, 14, 14, 512)       0         \n",
      "                                                                 \n",
      " block5_conv1 (Conv2D)       (None, 14, 14, 512)       2359808   \n",
      "                                                                 \n",
      " block5_conv2 (Conv2D)       (None, 14, 14, 512)       2359808   \n",
      "                                                                 \n",
      " block5_conv3 (Conv2D)       (None, 14, 14, 512)       2359808   \n",
      "                                                                 \n",
      " block5_pool (MaxPooling2D)  (None, 7, 7, 512)         0         \n",
      "                                                                 \n",
      "=================================================================\n",
      "Total params: 14714688 (56.13 MB)\n",
      "Trainable params: 0 (0.00 Byte)\n",
      "Non-trainable params: 14714688 (56.13 MB)\n",
      "_________________________________________________________________\n"
     ]
    }
   ],
   "source": [
    "conv_base.trainable = False\n",
    "conv_base.summary()"
   ],
   "metadata": {
    "collapsed": false,
    "ExecuteTime": {
     "end_time": "2023-12-03T16:09:29.364990Z",
     "start_time": "2023-12-03T16:09:29.299049Z"
    }
   },
   "id": "58c812f7a677beee"
  },
  {
   "cell_type": "code",
   "execution_count": 7,
   "outputs": [],
   "source": [
    "inputs = keras.Input(shape=(224, 224, 3))\n",
    "x = keras.applications.vgg16.preprocess_input(inputs)\n",
    "x = conv_base(x)\n",
    "x = layers.Flatten()(x)\n",
    "x = layers.Dense(256)(x)\n",
    "x = layers.Dropout(0.5)(x)\n",
    "outputs = layers.Dense(3, activation=\"softmax\")(x)\n",
    "model = keras.Model(inputs, outputs)"
   ],
   "metadata": {
    "collapsed": false,
    "ExecuteTime": {
     "end_time": "2023-12-03T16:09:29.828783Z",
     "start_time": "2023-12-03T16:09:29.335971Z"
    }
   },
   "id": "c2b3a08cef60b88d"
  },
  {
   "cell_type": "code",
   "execution_count": 8,
   "outputs": [
    {
     "name": "stdout",
     "output_type": "stream",
     "text": [
      "Model: \"model\"\n",
      "_________________________________________________________________\n",
      " Layer (type)                Output Shape              Param #   \n",
      "=================================================================\n",
      " input_2 (InputLayer)        [(None, 224, 224, 3)]     0         \n",
      "                                                                 \n",
      " tf.__operators__.getitem (  (None, 224, 224, 3)       0         \n",
      " SlicingOpLambda)                                                \n",
      "                                                                 \n",
      " tf.nn.bias_add (TFOpLambda  (None, 224, 224, 3)       0         \n",
      " )                                                               \n",
      "                                                                 \n",
      " vgg16 (Functional)          (None, 7, 7, 512)         14714688  \n",
      "                                                                 \n",
      " flatten (Flatten)           (None, 25088)             0         \n",
      "                                                                 \n",
      " dense (Dense)               (None, 256)               6422784   \n",
      "                                                                 \n",
      " dropout (Dropout)           (None, 256)               0         \n",
      "                                                                 \n",
      " dense_1 (Dense)             (None, 3)                 771       \n",
      "                                                                 \n",
      "=================================================================\n",
      "Total params: 21138243 (80.64 MB)\n",
      "Trainable params: 6423555 (24.50 MB)\n",
      "Non-trainable params: 14714688 (56.13 MB)\n",
      "_________________________________________________________________\n"
     ]
    }
   ],
   "source": [
    "model.summary()"
   ],
   "metadata": {
    "collapsed": false,
    "ExecuteTime": {
     "end_time": "2023-12-03T16:09:29.858775Z",
     "start_time": "2023-12-03T16:09:29.829563Z"
    }
   },
   "id": "b76de3a75ce62026"
  },
  {
   "cell_type": "code",
   "execution_count": 9,
   "outputs": [
    {
     "name": "stdout",
     "output_type": "stream",
     "text": [
      "Epoch 1/10\n"
     ]
    },
    {
     "name": "stderr",
     "output_type": "stream",
     "text": [
      "2023-12-03 11:09:30.447094: I tensorflow/core/grappler/optimizers/custom_graph_optimizer_registry.cc:117] Plugin optimizer for device_type GPU is enabled.\n"
     ]
    },
    {
     "name": "stdout",
     "output_type": "stream",
     "text": [
      "24/24 [==============================] - ETA: 0s - loss: 138.0965 - accuracy: 0.8548INFO:tensorflow:Assets written to: ./models/vgg16_bird_classifier.tf/assets\n"
     ]
    },
    {
     "name": "stderr",
     "output_type": "stream",
     "text": [
      "INFO:tensorflow:Assets written to: ./models/vgg16_bird_classifier.tf/assets\n"
     ]
    },
    {
     "name": "stdout",
     "output_type": "stream",
     "text": [
      "24/24 [==============================] - 38s 1s/step - loss: 138.0965 - accuracy: 0.8548 - val_loss: 0.0000e+00 - val_accuracy: 1.0000\n",
      "Epoch 2/10\n",
      "24/24 [==============================] - 26s 1s/step - loss: 20.5609 - accuracy: 0.9610 - val_loss: 0.0000e+00 - val_accuracy: 1.0000\n",
      "Epoch 3/10\n",
      "24/24 [==============================] - 29s 1s/step - loss: 2.3908 - accuracy: 0.9919 - val_loss: 0.0000e+00 - val_accuracy: 1.0000\n",
      "Epoch 4/10\n",
      "24/24 [==============================] - 30s 1s/step - loss: 1.1887 - accuracy: 0.9946 - val_loss: 0.0000e+00 - val_accuracy: 1.0000\n",
      "Epoch 5/10\n",
      "24/24 [==============================] - 33s 1s/step - loss: 3.4364 - accuracy: 0.9906 - val_loss: 0.0000e+00 - val_accuracy: 1.0000\n",
      "Epoch 6/10\n",
      "24/24 [==============================] - 25s 1s/step - loss: 1.2719 - accuracy: 0.9906 - val_loss: 0.0000e+00 - val_accuracy: 1.0000\n",
      "Epoch 7/10\n",
      "24/24 [==============================] - 27s 1s/step - loss: 0.7529 - accuracy: 0.9960 - val_loss: 0.0000e+00 - val_accuracy: 1.0000\n",
      "Epoch 8/10\n",
      "24/24 [==============================] - 26s 1s/step - loss: 0.0000e+00 - accuracy: 1.0000 - val_loss: 0.0000e+00 - val_accuracy: 1.0000\n",
      "Epoch 9/10\n",
      "24/24 [==============================] - 25s 1s/step - loss: 1.8725 - accuracy: 0.9973 - val_loss: 0.0000e+00 - val_accuracy: 1.0000\n",
      "Epoch 10/10\n",
      "24/24 [==============================] - 26s 1s/step - loss: 1.2305 - accuracy: 0.9960 - val_loss: 0.0000e+00 - val_accuracy: 1.0000\n"
     ]
    }
   ],
   "source": [
    "model.compile(loss=\"sparse_categorical_crossentropy\",\n",
    "              optimizer=\"rmsprop\",\n",
    "              metrics=[\"accuracy\"])\n",
    "\n",
    "callbacks = [\n",
    "    keras.callbacks.ModelCheckpoint(\n",
    "      filepath=\"./models/vgg16_bird_classifier.tf\",\n",
    "      save_best_only=True,\n",
    "      monitor=\"val_loss\")\n",
    "]\n",
    "\n",
    "history = model.fit(\n",
    "    train,\n",
    "    epochs=10,\n",
    "    validation_data=valid,\n",
    "    callbacks=callbacks\n",
    ")"
   ],
   "metadata": {
    "collapsed": false,
    "ExecuteTime": {
     "end_time": "2023-12-03T16:14:14.371757Z",
     "start_time": "2023-12-03T16:09:29.844220Z"
    }
   },
   "id": "b6890ae99b5c38ce"
  },
  {
   "cell_type": "code",
   "execution_count": 10,
   "outputs": [
    {
     "data": {
      "text/plain": "<Figure size 640x480 with 1 Axes>",
      "image/png": "[encoded data removed]"
     },
     "metadata": {},
     "output_type": "display_data"
    },
    {
     "data": {
      "text/plain": "<Figure size 640x480 with 0 Axes>"
     },
     "metadata": {},
     "output_type": "display_data"
    }
   ],
   "source": [
    "accuracy = history.history[\"accuracy\"]\n",
    "val_accuracy = history.history[\"val_accuracy\"]\n",
    "loss = history.history[\"loss\"]\n",
    "val_loss = history.history[\"val_loss\"]\n",
    "epochs = range(1, len(accuracy) + 1)\n",
    "plt.plot(epochs, accuracy, \"bo\", label=\"Training dataset Accuracy\")\n",
    "plt.plot(epochs, val_accuracy, \"b\", label=\"Validation dataset Accuracy\")\n",
    "plt.title(\"Training and validation Accuracy\")\n",
    "plt.legend()\n",
    "plt.figure()\n",
    "plt.show()"
   ],
   "metadata": {
    "collapsed": false,
    "ExecuteTime": {
     "end_time": "2023-12-03T16:14:14.870750Z",
     "start_time": "2023-12-03T16:14:14.415203Z"
    }
   },
   "id": "250875e074e793a0"
  },
  {
   "cell_type": "code",
   "execution_count": null,
   "outputs": [],
   "source": [],
   "metadata": {
    "collapsed": false,
    "ExecuteTime": {
     "start_time": "2023-12-03T15:55:24.787643Z"
    }
   },
   "id": "3f933d3ab10dacd0"
  },
  {
   "cell_type": "markdown",
   "source": [
    "def preprocess(dataset):\n",
    "    features = []\n",
    "    labels = []\n",
    "    for i, l in dataset:\n",
    "        preprocessed_images = keras.applications.vgg16.preprocess_input(i)\n",
    "        feat = conv_base.predict(preprocessed_images)\n",
    "        features.append(feat)\n",
    "        labels.append(labels)\n",
    "    data = np.concatenate(features), np.concatenate(labels)\n",
    "    return data\n",
    "\n",
    "train_features, train_labels =  preprocess(train)\n",
    "val_features, val_labels =  preprocess(valid)\n",
    "test_features, test_labels =  preprocess(test)"
   ],
   "metadata": {
    "collapsed": false
   },
   "id": "33682e04d6a14b2e"
  },
  {
   "cell_type": "code",
   "execution_count": 14,
   "outputs": [
    {
     "name": "stdout",
     "output_type": "stream",
     "text": [
      "1/1 [==============================] - 0s 30ms/step\n"
     ]
    },
    {
     "ename": "ValueError",
     "evalue": "in user code:\n\n    File \"/Users/aagnaykariyal/Documents/Github/venv/lib/python3.11/site-packages/keras/src/engine/training.py\", line 2416, in predict_function  *\n        return step_function(self, iterator)\n    File \"/Users/aagnaykariyal/Documents/Github/venv/lib/python3.11/site-packages/keras/src/engine/training.py\", line 2401, in step_function  **\n        outputs = model.distribute_strategy.run(run_step, args=(data,))\n    File \"/Users/aagnaykariyal/Documents/Github/venv/lib/python3.11/site-packages/keras/src/engine/training.py\", line 2389, in run_step  **\n        outputs = model.predict_step(data)\n    File \"/Users/aagnaykariyal/Documents/Github/venv/lib/python3.11/site-packages/keras/src/engine/training.py\", line 2357, in predict_step\n        return self(x, training=False)\n    File \"/Users/aagnaykariyal/Documents/Github/venv/lib/python3.11/site-packages/keras/src/utils/traceback_utils.py\", line 70, in error_handler\n        raise e.with_traceback(filtered_tb) from None\n\n    ValueError: Exception encountered when calling layer 'tf.nn.bias_add' (type TFOpLambda).\n    \n    Shape must be at least rank 2 but is rank 1 for '{{node model/tf.nn.bias_add/BiasAdd}} = BiasAdd[T=DT_FLOAT, data_format=\"NHWC\"](model/tf.__operators__.getitem/strided_slice, model/tf.nn.bias_add/BiasAdd/bias)' with input shapes: [?], [3].\n    \n    Call arguments received by layer 'tf.nn.bias_add' (type TFOpLambda):\n      • value=tf.Tensor(shape=(None,), dtype=float32)\n      • bias=tf.Tensor(shape=(3,), dtype=float32)\n      • data_format='NHWC'\n      • name=None\n",
     "output_type": "error",
     "traceback": [
      "\u001B[0;31m---------------------------------------------------------------------------\u001B[0m",
      "\u001B[0;31mValueError\u001B[0m                                Traceback (most recent call last)",
      "Cell \u001B[0;32mIn[14], line 7\u001B[0m\n\u001B[1;32m      4\u001B[0m     features \u001B[38;5;241m=\u001B[39m conv_base\u001B[38;5;241m.\u001B[39mpredict(preprocessed_images)\n\u001B[1;32m      5\u001B[0m     classes\u001B[38;5;241m.\u001B[39mappend(labels)\n\u001B[0;32m----> 7\u001B[0m y_pred \u001B[38;5;241m=\u001B[39m \u001B[43mmodel\u001B[49m\u001B[38;5;241;43m.\u001B[39;49m\u001B[43mpredict\u001B[49m\u001B[43m(\u001B[49m\u001B[43mclasses\u001B[49m\u001B[43m)\u001B[49m\n\u001B[1;32m      8\u001B[0m pred \u001B[38;5;241m=\u001B[39m np\u001B[38;5;241m.\u001B[39margmax(y_pred, axis\u001B[38;5;241m=\u001B[39m\u001B[38;5;241m1\u001B[39m)\n\u001B[1;32m      9\u001B[0m cf_matrix \u001B[38;5;241m=\u001B[39m tf\u001B[38;5;241m.\u001B[39mmath\u001B[38;5;241m.\u001B[39mconfusion_matrix(classes, pred)\n",
      "File \u001B[0;32m~/Documents/Github/venv/lib/python3.11/site-packages/keras/src/utils/traceback_utils.py:70\u001B[0m, in \u001B[0;36mfilter_traceback.<locals>.error_handler\u001B[0;34m(*args, **kwargs)\u001B[0m\n\u001B[1;32m     67\u001B[0m     filtered_tb \u001B[38;5;241m=\u001B[39m _process_traceback_frames(e\u001B[38;5;241m.\u001B[39m__traceback__)\n\u001B[1;32m     68\u001B[0m     \u001B[38;5;66;03m# To get the full stack trace, call:\u001B[39;00m\n\u001B[1;32m     69\u001B[0m     \u001B[38;5;66;03m# `tf.debugging.disable_traceback_filtering()`\u001B[39;00m\n\u001B[0;32m---> 70\u001B[0m     \u001B[38;5;28;01mraise\u001B[39;00m e\u001B[38;5;241m.\u001B[39mwith_traceback(filtered_tb) \u001B[38;5;28;01mfrom\u001B[39;00m \u001B[38;5;28;01mNone\u001B[39;00m\n\u001B[1;32m     71\u001B[0m \u001B[38;5;28;01mfinally\u001B[39;00m:\n\u001B[1;32m     72\u001B[0m     \u001B[38;5;28;01mdel\u001B[39;00m filtered_tb\n",
      "File \u001B[0;32m/var/folders/h6/5m4gzhp15gl394vgtm1x4wgr0000gn/T/__autograph_generated_fileo3b3_amt.py:15\u001B[0m, in \u001B[0;36mouter_factory.<locals>.inner_factory.<locals>.tf__predict_function\u001B[0;34m(iterator)\u001B[0m\n\u001B[1;32m     13\u001B[0m \u001B[38;5;28;01mtry\u001B[39;00m:\n\u001B[1;32m     14\u001B[0m     do_return \u001B[38;5;241m=\u001B[39m \u001B[38;5;28;01mTrue\u001B[39;00m\n\u001B[0;32m---> 15\u001B[0m     retval_ \u001B[38;5;241m=\u001B[39m ag__\u001B[38;5;241m.\u001B[39mconverted_call(ag__\u001B[38;5;241m.\u001B[39mld(step_function), (ag__\u001B[38;5;241m.\u001B[39mld(\u001B[38;5;28mself\u001B[39m), ag__\u001B[38;5;241m.\u001B[39mld(iterator)), \u001B[38;5;28;01mNone\u001B[39;00m, fscope)\n\u001B[1;32m     16\u001B[0m \u001B[38;5;28;01mexcept\u001B[39;00m:\n\u001B[1;32m     17\u001B[0m     do_return \u001B[38;5;241m=\u001B[39m \u001B[38;5;28;01mFalse\u001B[39;00m\n",
      "\u001B[0;31mValueError\u001B[0m: in user code:\n\n    File \"/Users/aagnaykariyal/Documents/Github/venv/lib/python3.11/site-packages/keras/src/engine/training.py\", line 2416, in predict_function  *\n        return step_function(self, iterator)\n    File \"/Users/aagnaykariyal/Documents/Github/venv/lib/python3.11/site-packages/keras/src/engine/training.py\", line 2401, in step_function  **\n        outputs = model.distribute_strategy.run(run_step, args=(data,))\n    File \"/Users/aagnaykariyal/Documents/Github/venv/lib/python3.11/site-packages/keras/src/engine/training.py\", line 2389, in run_step  **\n        outputs = model.predict_step(data)\n    File \"/Users/aagnaykariyal/Documents/Github/venv/lib/python3.11/site-packages/keras/src/engine/training.py\", line 2357, in predict_step\n        return self(x, training=False)\n    File \"/Users/aagnaykariyal/Documents/Github/venv/lib/python3.11/site-packages/keras/src/utils/traceback_utils.py\", line 70, in error_handler\n        raise e.with_traceback(filtered_tb) from None\n\n    ValueError: Exception encountered when calling layer 'tf.nn.bias_add' (type TFOpLambda).\n    \n    Shape must be at least rank 2 but is rank 1 for '{{node model/tf.nn.bias_add/BiasAdd}} = BiasAdd[T=DT_FLOAT, data_format=\"NHWC\"](model/tf.__operators__.getitem/strided_slice, model/tf.nn.bias_add/BiasAdd/bias)' with input shapes: [?], [3].\n    \n    Call arguments received by layer 'tf.nn.bias_add' (type TFOpLambda):\n      • value=tf.Tensor(shape=(None,), dtype=float32)\n      • bias=tf.Tensor(shape=(3,), dtype=float32)\n      • data_format='NHWC'\n      • name=None\n"
     ]
    }
   ],
   "source": [
    "classes = []\n",
    "for features, labels in valid:\n",
    "    preprocessed_images = keras.applications.vgg16.preprocess_input(features)\n",
    "    features = conv_base.predict(preprocessed_images)\n",
    "    classes.append(labels)\n",
    "\n",
    "y_pred = model.predict(classes)\n",
    "pred = np.argmax(y_pred, axis=1)\n",
    "cf_matrix = tf.math.confusion_matrix(classes, pred)\n",
    "print(cf_matrix)"
   ],
   "metadata": {
    "collapsed": false,
    "ExecuteTime": {
     "end_time": "2023-12-03T16:20:47.175803Z",
     "start_time": "2023-12-03T16:20:45.549969Z"
    }
   },
   "id": "2e0cb00eb7bfb916"
  },
  {
   "cell_type": "code",
   "execution_count": null,
   "outputs": [],
   "source": [],
   "metadata": {
    "collapsed": false
   },
   "id": "94623e858e6ecd2d"
  }
 ],
 "metadata": {
  "kernelspec": {
   "display_name": "Python 3",
   "language": "python",
   "name": "python3"
  },
  "language_info": {
   "codemirror_mode": {
    "name": "ipython",
    "version": 2
   },
   "file_extension": ".py",
   "mimetype": "text/x-python",
   "name": "python",
   "nbconvert_exporter": "python",
   "pygments_lexer": "ipython2",
   "version": "2.7.6"
  }
 },
 "nbformat": 4,
 "nbformat_minor": 5
}
