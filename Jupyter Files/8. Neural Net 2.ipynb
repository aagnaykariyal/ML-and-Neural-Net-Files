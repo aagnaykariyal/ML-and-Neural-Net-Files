{
 "cells": [
  {
   "cell_type": "markdown",
   "source": [
    "# Lab 9\n",
    "## Submitted By : Aagnay Kariyal\n",
    "## Student ID : 8830232\n",
    "\n",
    "***\n",
    "\n",
    "### Data loading and exploration"
   ],
   "metadata": {
    "collapsed": false
   },
   "id": "687efecb73919518"
  },
  {
   "cell_type": "code",
   "execution_count": 48,
   "outputs": [],
   "source": [
    "# Importing all the necessary dependencies\n",
    "import numpy as np\n",
    "from keras.datasets import fashion_mnist\n",
    "from tensorflow.keras.models import Sequential\n",
    "from tensorflow.keras.layers import Dense, Flatten\n",
    "from sklearn.metrics import confusion_matrix"
   ],
   "metadata": {
    "collapsed": false,
    "ExecuteTime": {
     "end_time": "2023-11-19T01:03:53.305582Z",
     "start_time": "2023-11-19T01:03:53.284776Z"
    }
   },
   "id": "48296fd7dd24322a"
  },
  {
   "cell_type": "code",
   "execution_count": 39,
   "outputs": [],
   "source": [
    "# Loading the data and splitting them into variables\n",
    "(X_train, y_train), (X_test, y_test) = fashion_mnist.load_data()"
   ],
   "metadata": {
    "collapsed": false,
    "ExecuteTime": {
     "end_time": "2023-11-19T00:57:12.195628Z",
     "start_time": "2023-11-19T00:57:11.959356Z"
    }
   },
   "id": "6ea4395ad3be6ac2"
  },
  {
   "cell_type": "markdown",
   "source": [
    "[Click here for the official Keras documentation of fMNIST](https://keras.io/keras_core/api/datasets/fashion_mnist/)\n",
    "\n",
    "From the main keras website, we can see that X_Train and X_Test data consists of image data and y_train and y_test data consists of their respective labels."
   ],
   "metadata": {
    "collapsed": false
   },
   "id": "8f7cb0ba99644bb2"
  },
  {
   "cell_type": "code",
   "execution_count": 75,
   "outputs": [
    {
     "name": "stdout",
     "output_type": "stream",
     "text": [
      "Shapes of data: \n",
      "\n",
      "X Train: (60000, 28, 28)\n",
      "X Test: (10000, 28, 28)\n",
      "Y Train: (60000,)\n",
      "Y Test: (10000,)\n"
     ]
    }
   ],
   "source": [
    "# Data Exploration\n",
    "print('Shapes of data: \\n')\n",
    "print(f'X Train: {X_train.shape}')\n",
    "print(f'X Test: {X_test.shape}')\n",
    "print(f'Y Train: {y_train.shape}')\n",
    "print(f'Y Test: {y_test.shape}')"
   ],
   "metadata": {
    "collapsed": false,
    "ExecuteTime": {
     "end_time": "2023-11-19T01:36:59.586117Z",
     "start_time": "2023-11-19T01:36:59.478589Z"
    }
   },
   "id": "1c42f34c58566bb6"
  },
  {
   "cell_type": "markdown",
   "source": [
    "After a brief exploration of the data, we were able to identify that the Train data consists of 60,000 image data and their respective labels and the Train data consists of 10,000 image data and their respective labels as well.\n",
    "\n",
    "From the documentation, we were also able to identify that the labels are represented in the form of integers naming from 0-9"
   ],
   "metadata": {
    "collapsed": false
   },
   "id": "d5df8695509dca2f"
  },
  {
   "cell_type": "markdown",
   "source": [
    "### Training a dense neural network using Keras\n",
    "\n",
    "***\n"
   ],
   "metadata": {
    "collapsed": false
   },
   "id": "d34ae5c022d97bc5"
  },
  {
   "cell_type": "code",
   "execution_count": 42,
   "outputs": [],
   "source": [
    "# Preprocessing the data\n",
    "train_data = X_train.reshape((60000, 28 * 28))\n",
    "test_data = X_test.reshape((10000, 28 * 28))\n",
    "\n",
    "train_data = train_data.astype('float32') / 255\n",
    "test_data = test_data.astype('float32') / 255"
   ],
   "metadata": {
    "collapsed": false,
    "ExecuteTime": {
     "end_time": "2023-11-19T00:57:23.073541Z",
     "start_time": "2023-11-19T00:57:22.963178Z"
    }
   },
   "id": "8fb35c3d5fa286b8"
  },
  {
   "cell_type": "code",
   "execution_count": 44,
   "outputs": [
    {
     "name": "stdout",
     "output_type": "stream",
     "text": [
      "Epoch 1/10\n",
      "469/469 [==============================] - 14s 21ms/step - loss: 0.5870 - accuracy: 0.7986\n",
      "Epoch 2/10\n",
      "469/469 [==============================] - 9s 18ms/step - loss: 0.4563 - accuracy: 0.8410\n",
      "Epoch 3/10\n",
      "469/469 [==============================] - 6s 12ms/step - loss: 0.4371 - accuracy: 0.8496\n",
      "Epoch 4/10\n",
      "469/469 [==============================] - 10s 21ms/step - loss: 0.4280 - accuracy: 0.8508\n",
      "Epoch 5/10\n",
      "469/469 [==============================] - 5s 11ms/step - loss: 0.4244 - accuracy: 0.8524\n",
      "Epoch 6/10\n",
      "469/469 [==============================] - 5s 11ms/step - loss: 0.4196 - accuracy: 0.8544\n",
      "Epoch 7/10\n",
      "469/469 [==============================] - 6s 14ms/step - loss: 0.4189 - accuracy: 0.8544\n",
      "Epoch 8/10\n",
      "469/469 [==============================] - 7s 15ms/step - loss: 0.4175 - accuracy: 0.8545\n",
      "Epoch 9/10\n",
      "469/469 [==============================] - 5s 11ms/step - loss: 0.4181 - accuracy: 0.8549\n",
      "Epoch 10/10\n",
      "469/469 [==============================] - 5s 10ms/step - loss: 0.4135 - accuracy: 0.8554\n",
      "313/313 [==============================] - 7s 13ms/step - loss: 0.4601 - accuracy: 0.8403\n",
      "Epoch 1/10\n",
      "469/469 [==============================] - 10s 16ms/step - loss: 0.5844 - accuracy: 0.8004\n",
      "Epoch 2/10\n",
      "469/469 [==============================] - 5s 11ms/step - loss: 0.4562 - accuracy: 0.8438\n",
      "Epoch 3/10\n",
      "469/469 [==============================] - 9s 18ms/step - loss: 0.4375 - accuracy: 0.8482\n",
      "Epoch 4/10\n",
      "469/469 [==============================] - 11s 23ms/step - loss: 0.4317 - accuracy: 0.8500\n",
      "Epoch 5/10\n",
      "469/469 [==============================] - 10s 20ms/step - loss: 0.4257 - accuracy: 0.8521\n",
      "Epoch 6/10\n",
      "469/469 [==============================] - 13s 27ms/step - loss: 0.4194 - accuracy: 0.8539\n",
      "Epoch 7/10\n",
      "469/469 [==============================] - 7s 16ms/step - loss: 0.4214 - accuracy: 0.8528\n",
      "Epoch 8/10\n",
      "469/469 [==============================] - 7s 14ms/step - loss: 0.4199 - accuracy: 0.8533\n",
      "Epoch 9/10\n",
      "469/469 [==============================] - 7s 14ms/step - loss: 0.4130 - accuracy: 0.8552\n",
      "Epoch 10/10\n",
      "469/469 [==============================] - 7s 15ms/step - loss: 0.4145 - accuracy: 0.8560\n",
      "313/313 [==============================] - 5s 9ms/step - loss: 0.4545 - accuracy: 0.8411\n",
      "Epoch 1/10\n",
      "469/469 [==============================] - 8s 10ms/step - loss: 0.5616 - accuracy: 0.8057\n",
      "Epoch 2/10\n",
      "469/469 [==============================] - 4s 8ms/step - loss: 0.4605 - accuracy: 0.8410\n",
      "Epoch 3/10\n",
      "469/469 [==============================] - 4s 9ms/step - loss: 0.4399 - accuracy: 0.8472\n",
      "Epoch 4/10\n",
      "469/469 [==============================] - 5s 11ms/step - loss: 0.4359 - accuracy: 0.8491\n",
      "Epoch 5/10\n",
      "469/469 [==============================] - 4s 9ms/step - loss: 0.4305 - accuracy: 0.8503\n",
      "Epoch 6/10\n",
      "469/469 [==============================] - 9s 18ms/step - loss: 0.4319 - accuracy: 0.8508\n",
      "Epoch 7/10\n",
      "469/469 [==============================] - 4s 9ms/step - loss: 0.4272 - accuracy: 0.8516\n",
      "Epoch 8/10\n",
      "469/469 [==============================] - 4s 8ms/step - loss: 0.4282 - accuracy: 0.8532\n",
      "Epoch 9/10\n",
      "469/469 [==============================] - 4s 8ms/step - loss: 0.4330 - accuracy: 0.8505\n",
      "Epoch 10/10\n",
      "469/469 [==============================] - 4s 8ms/step - loss: 0.4386 - accuracy: 0.8493\n",
      "313/313 [==============================] - 3s 8ms/step - loss: 0.4858 - accuracy: 0.8338\n",
      "{128: 0.8403000235557556, 130: 0.8410999774932861, 240: 0.8338000178337097}\n"
     ]
    }
   ],
   "source": [
    "parameter = [128, 130, 240] # Setting up some hyperparameters to iterate through to get the best configuration\n",
    "accuracy = {} # Defining a dictionary to save the accuracy and hyperparameters of each model\n",
    "\n",
    "# Creating a for loop to iterate through each model \n",
    "for p in parameter:\n",
    "    model = Sequential([\n",
    "        Dense(p, activation='relu'),\n",
    "        Dense(10, activation='softmax')\n",
    "    ])\n",
    "    \n",
    "    model.compile(optimizer='adam', loss='sparse_categorical_crossentropy', metrics=['accuracy'])\n",
    "    \n",
    "    model.fit(train_data, y_train, epochs=10, batch_size=128)\n",
    "    \n",
    "    loss_of_data, accuracy_of_data = model.evaluate(test_data, y_test)\n",
    "    \n",
    "    accuracy[p] = accuracy_of_data  # Storing all the accuracy values and the hyperparameter values into the dictionary\n",
    "\n",
    "predict = model.predict(test_data)\n",
    "pred_labels = np.argmax(predict, axis=1)"
   ],
   "metadata": {
    "collapsed": false,
    "ExecuteTime": {
     "end_time": "2023-11-19T01:01:36.625281Z",
     "start_time": "2023-11-19T00:57:51.690298Z"
    }
   },
   "id": "40e88fc9ead48ca8"
  },
  {
   "cell_type": "markdown",
   "source": [
    "### Accuracy Evaluation, Confusion metric and Incorrect Classification examples\n",
    "\n",
    "***\n"
   ],
   "metadata": {
    "collapsed": false
   },
   "id": "82bfdeaea5323669"
  },
  {
   "cell_type": "code",
   "execution_count": 77,
   "outputs": [
    {
     "name": "stdout",
     "output_type": "stream",
     "text": [
      "{128: 0.8403000235557556, 130: 0.8410999774932861, 240: 0.8338000178337097}\n"
     ]
    }
   ],
   "source": [
    "print(accuracy)"
   ],
   "metadata": {
    "collapsed": false,
    "ExecuteTime": {
     "end_time": "2023-11-19T01:40:13.617698Z",
     "start_time": "2023-11-19T01:40:13.609281Z"
    }
   },
   "id": "29785058de7585e2"
  },
  {
   "cell_type": "markdown",
   "source": [
    "From the above data, we can see that the model configuration with the hyperparameter 130 gave the highest accuracy of all three models"
   ],
   "metadata": {
    "collapsed": false
   },
   "id": "fe97f9459c188338"
  },
  {
   "cell_type": "code",
   "execution_count": 76,
   "outputs": [
    {
     "name": "stdout",
     "output_type": "stream",
     "text": [
      "[[726  12  12  97   6   2 137   0   7   1]\n",
      " [  1 961   0  32   3   0   2   0   1   0]\n",
      " [ 12  11 601  15 184   1 171   0   5   0]\n",
      " [  7   8   9 908  26   1  38   0   3   0]\n",
      " [  0   8  45  49 779   1 117   0   1   0]\n",
      " [  0   0   0   1   0 939   0  38   2  20]\n",
      " [ 91   6  72  80 104   0 633   0  14   0]\n",
      " [  0   0   0   0   0  34   0 933   0  33]\n",
      " [  3   1   2  15   6  24  33   5 910   1]\n",
      " [  0   1   0   0   0  17   1  33   0 948]]\n"
     ]
    }
   ],
   "source": [
    "cm = confusion_matrix(y_test, pred_labels)\n",
    "print(cm)"
   ],
   "metadata": {
    "collapsed": false,
    "ExecuteTime": {
     "end_time": "2023-11-19T01:39:47.369515Z",
     "start_time": "2023-11-19T01:39:47.336438Z"
    }
   },
   "id": "d946954e104bef7e"
  },
  {
   "cell_type": "code",
   "execution_count": 80,
   "outputs": [
    {
     "name": "stdout",
     "output_type": "stream",
     "text": [
      "The total number of incorrect labels are: 1662 \n",
      "\n",
      "Examples of Incorrect Classifications:\n",
      "Test: 7 Pred: 5\n",
      "Test: 9 Pred: 7\n",
      "Test: 4 Pred: 2\n",
      "Test: 0 Pred: 3\n"
     ]
    }
   ],
   "source": [
    "incorrect_labels = np.where(y_test != pred_labels)[0]\n",
    "print(f'The total number of incorrect labels are: {len(incorrect_labels)} \\n')\n",
    "\n",
    "print('Examples of Incorrect Classifications:')\n",
    "for num in range(4):\n",
    "    nums = incorrect_labels[num]\n",
    "    print(f'Test: {y_test[nums]} Pred: {pred_labels[nums]}')"
   ],
   "metadata": {
    "collapsed": false,
    "ExecuteTime": {
     "end_time": "2023-11-19T01:42:41.476785Z",
     "start_time": "2023-11-19T01:42:41.472475Z"
    }
   },
   "id": "ef283aea9bca7345"
  },
  {
   "cell_type": "markdown",
   "source": [
    "From these results we are able to recognize that there were 1662 False positives which could've impacted the outcome. The predicted data was not classified correctly to their corresponding test data"
   ],
   "metadata": {
    "collapsed": false
   },
   "id": "8a32675b1509a60c"
  },
  {
   "cell_type": "code",
   "execution_count": null,
   "outputs": [],
   "source": [],
   "metadata": {
    "collapsed": false
   },
   "id": "9eca7f86dbd13477"
  }
 ],
 "metadata": {
  "kernelspec": {
   "display_name": "Python 3",
   "language": "python",
   "name": "python3"
  },
  "language_info": {
   "codemirror_mode": {
    "name": "ipython",
    "version": 2
   },
   "file_extension": ".py",
   "mimetype": "text/x-python",
   "name": "python",
   "nbconvert_exporter": "python",
   "pygments_lexer": "ipython2",
   "version": "2.7.6"
  }
 },
 "nbformat": 4,
 "nbformat_minor": 5
}
